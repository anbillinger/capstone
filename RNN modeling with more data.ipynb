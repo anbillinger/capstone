{
 "cells": [
  {
   "cell_type": "markdown",
   "metadata": {},
   "source": [
    "# Iteratively Train Model\n",
    "* functions for importing, processing data, and fitting model\n",
    "* imports one \"chunk\" of data at a time\n",
    "* updates the model with current \"chunk\""
   ]
  },
  {
   "cell_type": "code",
   "execution_count": 1,
   "metadata": {},
   "outputs": [
    {
     "name": "stdout",
     "output_type": "stream",
     "text": [
      "the             141274\n",
      "to               55997\n",
      "and              41557\n",
      "a                40516\n",
      "of               36293\n",
      "                 ...  \n",
      "eastward           230\n",
      "awoke              230\n",
      "medaling           230\n",
      "specifically       230\n",
      "wasted             230\n",
      "Length: 1009, dtype: int64\n"
     ]
    }
   ],
   "source": [
    "from datetime import datetime\n",
    "import pandas as pd\n",
    "import numpy as np\n",
    "from tensorflow import keras\n",
    "from sklearn.preprocessing import LabelBinarizer\n",
    "from sklearn.model_selection import train_test_split\n",
    "from sklearn.preprocessing import StandardScaler\n",
    "#from sklearn.utils.class_weight import compute_class_weight\n",
    "\n",
    "# Visualization function\n",
    "\n",
    "import matplotlib.pyplot as plt\n",
    "%matplotlib inline\n",
    "\n",
    "def visualize_training_results(results):\n",
    "    history = results.history\n",
    "    plt.figure()\n",
    "    plt.plot(history['val_loss'])\n",
    "    plt.plot(history['loss'])\n",
    "    plt.legend(['val_loss', 'loss'])\n",
    "    plt.title('Loss')\n",
    "    plt.xlabel('Epochs')\n",
    "    plt.ylabel('Loss')\n",
    "    plt.show()\n",
    "    \n",
    "    plt.figure()\n",
    "    plt.plot(history['val_accuracy'])\n",
    "    plt.plot(history['accuracy'])\n",
    "    plt.legend(['val_acc', 'accuracy'])\n",
    "    plt.title('Accuracy')\n",
    "    plt.xlabel('Epochs')\n",
    "    plt.ylabel('Accuracy')\n",
    "    plt.show() \n",
    "\n",
    "    \n",
    "# Find most common words\n",
    "\n",
    "temp = pd.read_csv('Data/cv-valid-train.csv')\n",
    "texts = temp['text']\n",
    "\n",
    "words_list = np.hstack([x.split(' ') for x in texts])\n",
    "words_list_df = pd.Series(words_list)\n",
    "temp = words_list_df.value_counts()\n",
    "\n",
    "common_words = temp[:1000]\n",
    "for ind in range(1000,len(temp)):\n",
    "    num_freq = common_words[-1]\n",
    "    if temp[ind] == num_freq:\n",
    "        common_words = pd.concat([common_words,temp[ind:ind+1]])\n",
    "    else: break\n",
    "print(common_words)\n",
    "\n",
    "\n",
    "\n",
    "\n",
    "\n",
    "temp = None\n",
    "texts = None\n",
    "words_list = None\n",
    "\n",
    "num_unrec = round((len(words_list_df)-sum(common_words))*.005)\n",
    "temp = pd.Series(num_unrec)\n",
    "temp.index = ['[UNRECOGNIZED]']\n",
    "words_list = pd.concat([common_words,temp])\n",
    "\n",
    "lb = LabelBinarizer()\n",
    "lb.fit(words_list.index)\n",
    "\n",
    "class_weight_dict = {}\n",
    "for ind in range(len(words_list)):\n",
    "    word = words_list.index[ind]\n",
    "    word_ind = lb.transform([word]).argmax()\n",
    "    class_weight_dict[word_ind] = sum(words_list)/(len(words_list)*words_list[ind])\n",
    "weight_dict_sorted = dict(sorted(class_weight_dict.items()))"
   ]
  },
  {
   "cell_type": "code",
   "execution_count": 2,
   "metadata": {},
   "outputs": [],
   "source": [
    "# import and preprocess data\n",
    "\n",
    "def import_data(sample_to_fit):\n",
    "    sample_to_fit = 1\n",
    "    file_name = 'Data/Samples_'+str(sample_to_fit)+'.csv'\n",
    "\n",
    "    df = pd.read_csv(file_name)\n",
    "    df['words'] = df['words'].where(df['words'].isin(common_words.index),'[UNRECOGNIZED]')\n",
    "    temp = df.loc[df['words']=='[UNRECOGNIZED]']\n",
    "    df_1 = df.loc[df['words']!='[UNRECOGNIZED]']\n",
    "    df_2 = temp.sample(frac=0.005)\n",
    "    df = pd.concat([df_1,df_2])\n",
    "    return df"
   ]
  },
  {
   "cell_type": "code",
   "execution_count": 3,
   "metadata": {},
   "outputs": [],
   "source": [
    "# Process dataframe for model fitting\n",
    "\n",
    "def process_data(df,lb):\n",
    "    X = df.drop('words',axis=1)\n",
    "    y_raw = df['words']\n",
    "\n",
    "    y = lb.transform(y_raw)\n",
    "\n",
    "\n",
    "    X_train,X_val,y_train,y_val = train_test_split(X,y)\n",
    "    ss = StandardScaler()\n",
    "    X_train_scale = ss.fit_transform(X_train)\n",
    "    X_val_scale = ss.transform(X_val)\n",
    "    X_train_final = X_train_scale.reshape(X_train.shape[0],3000,1)\n",
    "    X_val_final = X_val_scale.reshape(X_val.shape[0],3000,1)\n",
    "    \n",
    "    return X_train_final,y_train,X_val_final,y_val"
   ]
  },
  {
   "cell_type": "code",
   "execution_count": 4,
   "metadata": {},
   "outputs": [],
   "source": [
    "# function to train model with new data\n",
    "\n",
    "def model_fit(model,X_train_final,y_train,X_val_final,y_val,verb):\n",
    "    start = datetime.now()\n",
    "    \n",
    "    results=model.fit(X_train_final,y_train,epochs=6,batch_size=100,validation_data=(X_val_final,y_val),\n",
    "                    class_weight = weight_dict_sorted,verbose=verb)\n",
    "    end=datetime.now()\n",
    "\n",
    "    print('\\nTime training: ',end-start)\n",
    "    results_train = model.evaluate(X_train_final,y_train)\n",
    "    print('----------')\n",
    "    print(f'Training Loss: {results_train[0]:.3} \\nTraining Accuracy: {results_train[1]:.3}')\n",
    "    results_val = model.evaluate(X_val_final,y_val)\n",
    "    print('----------')\n",
    "    print(f'Validation Loss: {results_val[0]:.3} \\nValidation Accuracy: {results_val[1]:.3}')\n",
    "\n",
    "    visualize_training_results(results)\n",
    "    return model"
   ]
  },
  {
   "cell_type": "code",
   "execution_count": 5,
   "metadata": {},
   "outputs": [],
   "source": [
    "#initialize model\n",
    "\n",
    "def create_model():\n",
    "    gru = keras.models.Sequential()\n",
    "    gru.add(keras.layers.Bidirectional(keras.layers.GRU(16, input_shape=(3000,1,))))\n",
    "    gru.add(keras.layers.Dense(1010,activation='softmax'))\n",
    "    return gru\n",
    "\n",
    "gru = create_model()\n",
    "gru.compile(loss='categorical_crossentropy',optimizer='Adagrad',metrics=['accuracy'])\n",
    "# gru.load_weights('./saved_models/gen_model_75')"
   ]
  },
  {
   "cell_type": "code",
   "execution_count": 6,
   "metadata": {},
   "outputs": [
    {
     "name": "stdout",
     "output_type": "stream",
     "text": [
      "Starting Time for set 1: 2021-01-26 21:22:48.639186\n",
      "Data Imported, Time Elapsed: 0:00:39.760197\n",
      "Data Processed, Time Elapsed: 0:00:31.620917\n",
      "WARNING:tensorflow:From C:\\Users\\Alex\\AppData\\Roaming\\Python\\Python36\\site-packages\\tensorflow\\python\\ops\\array_ops.py:4961: calling gather (from tensorflow.python.ops.array_ops) with validate_indices is deprecated and will be removed in a future version.\n",
      "Instructions for updating:\n",
      "The `validate_indices` argument has no effect. Indices are always validated on CPU and never validated on GPU.\n",
      "\n",
      "Time training:  0:40:59.287138\n",
      "959/959 [==============================] - 106s 110ms/step - loss: 6.9183 - accuracy: 0.0011\n",
      "----------\n",
      "Training Loss: 6.92 \n",
      "Training Accuracy: 0.00114\n",
      "320/320 [==============================] - 35s 109ms/step - loss: 6.9186 - accuracy: 3.9120e-04\n",
      "----------\n",
      "Validation Loss: 6.92 \n",
      "Validation Accuracy: 0.000391\n"
     ]
    },
    {
     "data": {
      "image/png": "[encoded data removed]",
      "text/plain": [
       "<Figure size 432x288 with 1 Axes>"
      ]
     },
     "metadata": {
      "needs_background": "light"
     },
     "output_type": "display_data"
    },
    {
     "data": {
      "image/png": "[encoded data removed]",
      "text/plain": [
       "<Figure size 432x288 with 1 Axes>"
      ]
     },
     "metadata": {
      "needs_background": "light"
     },
     "output_type": "display_data"
    }
   ],
   "source": [
    "# Now put it all together\n",
    "\n",
    "#for x in range(1,4):\n",
    "x=1\n",
    "\n",
    "dt_1 = datetime.now()\n",
    "print(f'Starting Time for set {x}: {dt_1}')\n",
    "\n",
    "df = import_data(x)\n",
    "dt_2 = datetime.now()\n",
    "print('Data Imported, Time Elapsed:',dt_2-dt_1)\n",
    "\n",
    "X_t,y_t,X_v,y_v = process_data(df,lb)\n",
    "dt_3 = datetime.now()\n",
    "print('Data Processed, Time Elapsed:',dt_3-dt_2)\n",
    "\n",
    "gru = model_fit(gru,X_t,y_t,X_v,y_v,False)\n",
    "gru.save_weights('saved_models/gru_1',save_format='h5')"
   ]
  },
  {
   "cell_type": "code",
   "execution_count": null,
   "metadata": {},
   "outputs": [],
   "source": []
  }
 ],
 "metadata": {
  "kernelspec": {
   "display_name": "Python [conda env:learn-env] *",
   "language": "python",
   "name": "conda-env-learn-env-py"
  },
  "language_info": {
   "codemirror_mode": {
    "name": "ipython",
    "version": 3
   },
   "file_extension": ".py",
   "mimetype": "text/x-python",
   "name": "python",
   "nbconvert_exporter": "python",
   "pygments_lexer": "ipython3",
   "version": "3.6.9"
  }
 },
 "nbformat": 4,
 "nbformat_minor": 2
}
