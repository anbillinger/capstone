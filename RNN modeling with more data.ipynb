{
 "cells": [
  {
   "cell_type": "markdown",
   "metadata": {},
   "source": [
    "# Iteratively Train Model\n",
    "* functions for importing, processing data, and fitting model\n",
    "* imports one \"chunk\" of data at a time\n",
    "* updates the model with current \"chunk\""
   ]
  },
  {
   "cell_type": "code",
   "execution_count": 1,
   "metadata": {},
   "outputs": [
    {
     "name": "stdout",
     "output_type": "stream",
     "text": [
      "the         141274\n",
      "to           55997\n",
      "and          41557\n",
      "a            40516\n",
      "of           36293\n",
      "             ...  \n",
      "medaling       230\n",
      "eastward       230\n",
      "olympics       230\n",
      "junior         230\n",
      "carried        230\n",
      "Length: 1009, dtype: int64\n"
     ]
    }
   ],
   "source": [
    "from datetime import datetime\n",
    "import pandas as pd\n",
    "import numpy as np\n",
    "from tensorflow import keras\n",
    "from sklearn.preprocessing import LabelBinarizer\n",
    "from sklearn.model_selection import train_test_split\n",
    "from sklearn.preprocessing import StandardScaler\n",
    "from sklearn.utils.class_weight import compute_class_weight\n",
    "\n",
    "# Visualization function\n",
    "\n",
    "import matplotlib.pyplot as plt\n",
    "%matplotlib inline\n",
    "\n",
    "def visualize_training_results(results):\n",
    "    history = results.history\n",
    "    plt.figure()\n",
    "    plt.plot(history['val_loss'])\n",
    "    plt.plot(history['loss'])\n",
    "    plt.legend(['val_loss', 'loss'])\n",
    "    plt.title('Loss')\n",
    "    plt.xlabel('Epochs')\n",
    "    plt.ylabel('Loss')\n",
    "    plt.show()\n",
    "    \n",
    "    plt.figure()\n",
    "    plt.plot(history['val_accuracy'])\n",
    "    plt.plot(history['accuracy'])\n",
    "    plt.legend(['val_acc', 'accuracy'])\n",
    "    plt.title('Accuracy')\n",
    "    plt.xlabel('Epochs')\n",
    "    plt.ylabel('Accuracy')\n",
    "    plt.show() \n",
    "\n",
    "    \n",
    "# Find most common words\n",
    "\n",
    "temp = pd.read_csv('Data/cv-valid-train.csv')\n",
    "texts = temp['text']\n",
    "\n",
    "words_list = np.hstack([x.split(' ') for x in texts])\n",
    "words_list_df = pd.Series(words_list)\n",
    "temp = words_list_df.value_counts()\n",
    "\n",
    "common_words = temp[:1000]\n",
    "for ind in range(1000,len(temp)):\n",
    "    num_freq = common_words[-1]\n",
    "    if temp[ind] == num_freq:\n",
    "        common_words = pd.concat([common_words,temp[ind:ind+1]])\n",
    "    else: break\n",
    "print(common_words)\n",
    "\n",
    "\n",
    "\n",
    "\n",
    "\n",
    "temp = None\n",
    "texts = None\n",
    "words_list = None\n",
    "\n",
    "num_unrec = round((len(words_list_df)-sum(common_words))*.005)\n",
    "temp = pd.Series(num_unrec)\n",
    "temp.index = ['[UNRECOGNIZED]']\n",
    "words_list = pd.concat([common_words,temp])\n",
    "\n",
    "lb = LabelBinarizer()\n",
    "lb.fit(words_list.index)\n",
    "\n",
    "class_weight_dict = {}\n",
    "for ind in range(len(words_list)):\n",
    "    word = words_list.index[ind]\n",
    "    word_ind = lb.transform([word]).argmax()\n",
    "    class_weight_dict[word_ind] = sum(words_list)/(len(words_list)*words_list[ind])\n",
    "weight_dict_sorted = dict(sorted(class_weight_dict.items()))"
   ]
  },
  {
   "cell_type": "code",
   "execution_count": 2,
   "metadata": {},
   "outputs": [],
   "source": [
    "# import and preprocess data\n",
    "\n",
    "def import_data(sample_to_fit):\n",
    "    sample_to_fit = 1\n",
    "    file_name = 'Data/Samples_'+str(sample_to_fit)+'.csv'\n",
    "\n",
    "    df = pd.read_csv(file_name)\n",
    "    df['words'] = df['words'].where(df['words'].isin(common_words.index),'[UNRECOGNIZED]')\n",
    "    temp = df.loc[df['words']=='[UNRECOGNIZED]']\n",
    "    df_1 = df.loc[df['words']!='[UNRECOGNIZED]']\n",
    "    df_2 = temp.sample(frac=0.005)\n",
    "    df = pd.concat([df_1,df_2])\n",
    "    return df"
   ]
  },
  {
   "cell_type": "code",
   "execution_count": 3,
   "metadata": {},
   "outputs": [],
   "source": [
    "# Process dataframe for model fitting\n",
    "\n",
    "def process_data(df,lb):\n",
    "    X = df.drop('words',axis=1)\n",
    "    y_raw = df['words']\n",
    "\n",
    "    y = lb.transform(y_raw)\n",
    "\n",
    "\n",
    "    X_train,X_val,y_train,y_val = train_test_split(X,y)\n",
    "    ss = StandardScaler()\n",
    "    X_train_scale = ss.fit_transform(X_train)\n",
    "    X_val_scale = ss.transform(X_val)\n",
    "    X_train_final = X_train_scale.reshape(X_train.shape[0],3000,1)\n",
    "    X_val_final = X_val_scale.reshape(X_val.shape[0],3000,1)\n",
    "    \n",
    "    return X_train_final,y_train,X_val_final,y_val"
   ]
  },
  {
   "cell_type": "code",
   "execution_count": 4,
   "metadata": {},
   "outputs": [],
   "source": [
    "# function to train model with new data\n",
    "\n",
    "def model_fit(model,X_train_final,y_train,X_val_final,y_val,verb):\n",
    "    start = datetime.now()\n",
    "    \n",
    "    results=model.fit(X_train_final,y_train,epochs=6,batch_size=100,validation_data=(X_val_final,y_val),\n",
    "                    class_weight = weight_dict_sorted,verbose=verb)\n",
    "    end=datetime.now()\n",
    "\n",
    "    print('\\nTime training: ',end-start)\n",
    "    results_train = model.evaluate(X_train_final,y_train)\n",
    "    print('----------')\n",
    "    print(f'Training Loss: {results_train[0]:.3} \\nTraining Accuracy: {results_train[1]:.3}')\n",
    "    results_val = model.evaluate(X_val_final,y_val)\n",
    "    print('----------')\n",
    "    print(f'Validation Loss: {results_val[0]:.3} \\nValidation Accuracy: {results_val[1]:.3}')\n",
    "\n",
    "    visualize_training_results(results)\n",
    "    return model"
   ]
  },
  {
   "cell_type": "code",
   "execution_count": 5,
   "metadata": {},
   "outputs": [],
   "source": [
    "#initialize model\n",
    "\n",
    "gru = keras.models.Sequential()\n",
    "gru.add(keras.layers.Bidirectional(keras.layers.GRU(16, input_shape=(3000,1,))))\n",
    "gru.add(keras.layers.Dense(1010,activation='softmax'))\n",
    "gru.compile(loss='categorical_crossentropy',optimizer='Adagrad',metrics=['accuracy'])"
   ]
  },
  {
   "cell_type": "code",
   "execution_count": 97,
   "metadata": {
    "scrolled": true
   },
   "outputs": [
    {
     "data": {
      "text/plain": [
       "array(['sound'], dtype='<U14')"
      ]
     },
     "execution_count": 97,
     "metadata": {},
     "output_type": "execute_result"
    }
   ],
   "source": [
    "smth = np.zeros([1,1010])\n",
    "smth[0,776]=1\n",
    "smth\n",
    "lb.inverse_transform(smth)"
   ]
  },
  {
   "cell_type": "code",
   "execution_count": 50,
   "metadata": {},
   "outputs": [],
   "source": [
    "y_raw_temp = lb.inverse_transform(y_t)\n",
    "y_raw_temp\n",
    "temp2 = pd.DataFrame(y_raw_temp)\n",
    "temp3 = pd.DataFrame(temp2[0].value_counts())\n",
    "temp3['percent'] = temp3[0]/sum(temp3[0])\n",
    "temp3['rel_per'] = temp['percent'][temp3.index]"
   ]
  },
  {
   "cell_type": "code",
   "execution_count": 76,
   "metadata": {},
   "outputs": [],
   "source": [
    "temp_d = {}\n",
    "temp4 = temp2[0].value_counts()\n",
    "for ind in range(len(temp4)):\n",
    "    word = temp4.index[ind]\n",
    "    word_ind = lb.transform([word]).argmax()\n",
    "    if word_ind == 502:print(word)\n",
    "    temp_d[word_ind] = sum(temp4)/(len(temp4)*temp4[ind])"
   ]
  },
  {
   "cell_type": "code",
   "execution_count": 7,
   "metadata": {},
   "outputs": [
    {
     "ename": "NameError",
     "evalue": "name 'd_class_weights' is not defined",
     "output_type": "error",
     "traceback": [
      "\u001b[1;31m---------------------------------------------------------------------------\u001b[0m",
      "\u001b[1;31mNameError\u001b[0m                                 Traceback (most recent call last)",
      "\u001b[1;32m<ipython-input-7-ccc6c206aa17>\u001b[0m in \u001b[0;36m<module>\u001b[1;34m\u001b[0m\n\u001b[1;32m----> 1\u001b[1;33m \u001b[0md_class_weights\u001b[0m\u001b[1;33m\u001b[0m\u001b[1;33m\u001b[0m\u001b[0m\n\u001b[0m",
      "\u001b[1;31mNameError\u001b[0m: name 'd_class_weights' is not defined"
     ]
    }
   ],
   "source": []
  },
  {
   "cell_type": "code",
   "execution_count": 6,
   "metadata": {},
   "outputs": [
    {
     "name": "stdout",
     "output_type": "stream",
     "text": [
      "Starting Time for set 1: 2020-10-30 13:20:48.214139\n",
      "Data Imported, Time Elapsed: 0:00:25.944412\n",
      "Data Processed, Time Elapsed: 0:00:20.214304\n",
      "WARNING:tensorflow:sample_weight modes were coerced from\n",
      "  ...\n",
      "    to  \n",
      "  ['...']\n",
      "WARNING:tensorflow:sample_weight modes were coerced from\n",
      "  ...\n",
      "    to  \n",
      "  ['...']\n",
      "Train on 30675 samples, validate on 10225 samples\n",
      "Epoch 1/6\n",
      "30675/30675 [==============================] - 1660s 54ms/sample - loss: 6.8232 - accuracy: 0.0020 - val_loss: 7.1199 - val_accuracy: 0.0022\n",
      "Epoch 2/6\n",
      "30675/30675 [==============================] - 1850s 60ms/sample - loss: 6.8207 - accuracy: 0.0022 - val_loss: 7.1199 - val_accuracy: 0.0018\n",
      "Epoch 3/6\n",
      "30675/30675 [==============================] - 1656s 54ms/sample - loss: 6.8196 - accuracy: 0.0014 - val_loss: 7.1199 - val_accuracy: 0.0011\n",
      "Epoch 4/6\n",
      "30675/30675 [==============================] - 1597s 52ms/sample - loss: 6.8187 - accuracy: 0.0014 - val_loss: 7.1200 - val_accuracy: 0.0011\n",
      "Epoch 5/6\n",
      "30675/30675 [==============================] - 1716s 56ms/sample - loss: 6.8179 - accuracy: 0.0011 - val_loss: 7.1200 - val_accuracy: 9.7800e-04\n",
      "Epoch 6/6\n",
      "30675/30675 [==============================] - 1759s 57ms/sample - loss: 6.8172 - accuracy: 0.0013 - val_loss: 7.1200 - val_accuracy: 8.8020e-04\n",
      "\n",
      "Time training:  2:50:54.970615\n",
      "30675/30675 [==============================] - 353s 12ms/sample - loss: 6.9083 - accuracy: 0.0015\n",
      "----------\n",
      "Training Loss: 6.91 \n",
      "Training Accuracy: 0.0015\n",
      "10225/10225 [==============================] - 117s 11ms/sample - loss: 6.9110 - accuracy: 8.8020e-04\n",
      "----------\n",
      "Validation Loss: 6.91 \n",
      "Validation Accuracy: 0.00088\n"
     ]
    },
    {
     "data": {
      "image/png": "[encoded data removed]",
      "text/plain": [
       "<Figure size 432x288 with 1 Axes>"
      ]
     },
     "metadata": {
      "needs_background": "light"
     },
     "output_type": "display_data"
    },
    {
     "data": {
      "image/png": "[encoded data removed]",
      "text/plain": [
       "<Figure size 432x288 with 1 Axes>"
      ]
     },
     "metadata": {
      "needs_background": "light"
     },
     "output_type": "display_data"
    },
    {
     "name": "stdout",
     "output_type": "stream",
     "text": [
      "WARNING:tensorflow:From D:\\Alex\\Anaconda3\\envs\\learn-env\\lib\\site-packages\\tensorflow_core\\python\\ops\\resource_variable_ops.py:1786: calling BaseResourceVariable.__init__ (from tensorflow.python.ops.resource_variable_ops) with constraint is deprecated and will be removed in a future version.\n",
      "Instructions for updating:\n",
      "If using Keras pass *_constraint arguments to layers.\n",
      "INFO:tensorflow:Assets written to: model_in_progress\\assets\n"
     ]
    }
   ],
   "source": [
    "# \n",
    "\n",
    "x=1\n",
    "dt_1 = datetime.now()\n",
    "print(f'Starting Time for set {x}: {dt_1}')\n",
    "df = import_data(x)\n",
    "dt_2 = datetime.now()\n",
    "print('Data Imported, Time Elapsed:',dt_2-dt_1)\n",
    "X_t,y_t,X_v,y_v = process_data(df,lb)\n",
    "dt_3 = datetime.now()\n",
    "print('Data Processed, Time Elapsed:',dt_3-dt_2)\n",
    "gru = model_fit(gru,X_t,y_t,X_v,y_v,True)\n",
    "gru.save('model_in_progress')"
   ]
  },
  {
   "cell_type": "code",
   "execution_count": null,
   "metadata": {},
   "outputs": [],
   "source": []
  }
 ],
 "metadata": {
  "kernelspec": {
   "display_name": "Python [conda env:learn-env] *",
   "language": "python",
   "name": "conda-env-learn-env-py"
  },
  "language_info": {
   "codemirror_mode": {
    "name": "ipython",
    "version": 3
   },
   "file_extension": ".py",
   "mimetype": "text/x-python",
   "name": "python",
   "nbconvert_exporter": "python",
   "pygments_lexer": "ipython3",
   "version": "3.6.9"
  }
 },
 "nbformat": 4,
 "nbformat_minor": 2
}
