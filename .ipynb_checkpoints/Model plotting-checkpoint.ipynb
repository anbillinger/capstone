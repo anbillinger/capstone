{
 "cells": [
  {
   "cell_type": "code",
   "execution_count": 1,
   "metadata": {},
   "outputs": [],
   "source": [
    "from tensorflow import keras\n",
    "import matplotlib.pyplot as plt\n",
    "%matplotlib inline\n",
    "from IPython.display import clear_output\n",
    "\n",
    "def create_model(nodes1,nodes2,hidden_layers,activ,optim):\n",
    "    model = keras.models.Sequential()\n",
    "    model.add(keras.layers.Bidirectional(keras.layers.GRU(nodes1, input_shape=(3000,1,))))\n",
    "    for x in range(hidden_layers-1):\n",
    "        model.add(keras.layers.Dense(nodes2,activation=activ))\n",
    "    model.add(keras.layers.Dense(1009,activation='softmax'))\n",
    "    return model\n",
    "\n",
    "def create_model_dropout(nodes1,nodes2,hidden_layers,activ,optim,drop_rate):\n",
    "    model = keras.models.Sequential()\n",
    "    model.add(keras.layers.Dropout(drop_rate,input_shape=(3000,1)))\n",
    "    model.add(keras.layers.Bidirectional(keras.layers.GRU(nodes1)))\n",
    "    for x in range(hidden_layers-1):\n",
    "        model.add(keras.layers.Dropout(drop_rate))\n",
    "        model.add(keras.layers.Dense(nodes2,activation=activ))\n",
    "    model.add(keras.layers.Dense(1009,activation='softmax'))\n",
    "    return model"
   ]
  },
  {
   "cell_type": "code",
   "execution_count": 2,
   "metadata": {},
   "outputs": [],
   "source": [
    "class model_object:\n",
    "    def __init__(self,short_name):\n",
    "        self.short_name = short_name\n",
    "        self.full_name = 'saved_models/'+short_name\n",
    "        self.attri = []\n",
    "        for x in short_name.split(','):\n",
    "            try:\n",
    "                x = int(x)\n",
    "            except:\n",
    "                pass\n",
    "            self.attri.append(x)\n",
    "            \n",
    "        if 'dropout' in self.attri:\n",
    "            self.model = create_model_dropout(self.attri[0],self.attri[1],self.attri[2],self.attri[3],self.attri[4],.2)\n",
    "        else: \n",
    "            self.model = create_model(self.attri[0],self.attri[1],self.attri[2],self.attri[3],self.attri[4])\n",
    "            \n",
    "            \n",
    "    def get_stats(self,x,y):\n",
    "        self.model(np.zeros((1,3000,1)))\n",
    "        self.model.load_weights(self.full_name)\n",
    "        self.model.compile(loss='categorical_crossentropy',optimizer=self.attri[4],metrics=['accuracy'])\n",
    "        \n",
    "        print('Evaluating: ', self.short_name)\n",
    "        results = self.model.evaluate(x,y)\n",
    "        self.loss = results[0]\n",
    "        self.acc = results[1]\n",
    "        clear_output(wait=True)"
   ]
  },
  {
   "cell_type": "code",
   "execution_count": 3,
   "metadata": {},
   "outputs": [
    {
     "name": "stdout",
     "output_type": "stream",
     "text": [
      "the             141274\n",
      "to               55997\n",
      "and              41557\n",
      "a                40516\n",
      "of               36293\n",
      "                 ...  \n",
      "carried            230\n",
      "medaling           230\n",
      "rushing            230\n",
      "specifically       230\n",
      "junior             230\n",
      "Length: 1009, dtype: int64\n",
      "40900\n",
      "0:00:43.625287\n"
     ]
    },
    {
     "data": {
      "text/html": [
       "<div>\n",
       "<style scoped>\n",
       "    .dataframe tbody tr th:only-of-type {\n",
       "        vertical-align: middle;\n",
       "    }\n",
       "\n",
       "    .dataframe tbody tr th {\n",
       "        vertical-align: top;\n",
       "    }\n",
       "\n",
       "    .dataframe thead th {\n",
       "        text-align: right;\n",
       "    }\n",
       "</style>\n",
       "<table border=\"1\" class=\"dataframe\">\n",
       "  <thead>\n",
       "    <tr style=\"text-align: right;\">\n",
       "      <th></th>\n",
       "      <th>sample_0</th>\n",
       "      <th>sample_1</th>\n",
       "      <th>sample_2</th>\n",
       "      <th>sample_3</th>\n",
       "      <th>sample_4</th>\n",
       "      <th>sample_5</th>\n",
       "      <th>sample_6</th>\n",
       "      <th>sample_7</th>\n",
       "      <th>sample_8</th>\n",
       "      <th>sample_9</th>\n",
       "      <th>...</th>\n",
       "      <th>sample_2991</th>\n",
       "      <th>sample_2992</th>\n",
       "      <th>sample_2993</th>\n",
       "      <th>sample_2994</th>\n",
       "      <th>sample_2995</th>\n",
       "      <th>sample_2996</th>\n",
       "      <th>sample_2997</th>\n",
       "      <th>sample_2998</th>\n",
       "      <th>sample_2999</th>\n",
       "      <th>words</th>\n",
       "    </tr>\n",
       "  </thead>\n",
       "  <tbody>\n",
       "    <tr>\n",
       "      <td>0</td>\n",
       "      <td>129</td>\n",
       "      <td>206</td>\n",
       "      <td>227</td>\n",
       "      <td>208</td>\n",
       "      <td>275</td>\n",
       "      <td>402</td>\n",
       "      <td>474</td>\n",
       "      <td>559</td>\n",
       "      <td>658</td>\n",
       "      <td>880</td>\n",
       "      <td>...</td>\n",
       "      <td>-6458</td>\n",
       "      <td>-4407</td>\n",
       "      <td>-2736</td>\n",
       "      <td>-1968</td>\n",
       "      <td>0</td>\n",
       "      <td>0</td>\n",
       "      <td>0</td>\n",
       "      <td>0</td>\n",
       "      <td>0</td>\n",
       "      <td>learn</td>\n",
       "    </tr>\n",
       "    <tr>\n",
       "      <td>1</td>\n",
       "      <td>-4786</td>\n",
       "      <td>-3695</td>\n",
       "      <td>-694</td>\n",
       "      <td>2025</td>\n",
       "      <td>3114</td>\n",
       "      <td>2906</td>\n",
       "      <td>1890</td>\n",
       "      <td>1563</td>\n",
       "      <td>2868</td>\n",
       "      <td>4372</td>\n",
       "      <td>...</td>\n",
       "      <td>6378</td>\n",
       "      <td>-4740</td>\n",
       "      <td>-14274</td>\n",
       "      <td>-14041</td>\n",
       "      <td>0</td>\n",
       "      <td>0</td>\n",
       "      <td>0</td>\n",
       "      <td>0</td>\n",
       "      <td>0</td>\n",
       "      <td>to</td>\n",
       "    </tr>\n",
       "    <tr>\n",
       "      <td>3</td>\n",
       "      <td>718</td>\n",
       "      <td>165</td>\n",
       "      <td>-1624</td>\n",
       "      <td>-1544</td>\n",
       "      <td>1007</td>\n",
       "      <td>620</td>\n",
       "      <td>1096</td>\n",
       "      <td>-1256</td>\n",
       "      <td>-1975</td>\n",
       "      <td>60</td>\n",
       "      <td>...</td>\n",
       "      <td>345</td>\n",
       "      <td>1353</td>\n",
       "      <td>1125</td>\n",
       "      <td>-5120</td>\n",
       "      <td>-5043</td>\n",
       "      <td>-3150</td>\n",
       "      <td>-4747</td>\n",
       "      <td>-5659</td>\n",
       "      <td>-5833</td>\n",
       "      <td>omens</td>\n",
       "    </tr>\n",
       "    <tr>\n",
       "      <td>4</td>\n",
       "      <td>320</td>\n",
       "      <td>-109</td>\n",
       "      <td>590</td>\n",
       "      <td>895</td>\n",
       "      <td>389</td>\n",
       "      <td>334</td>\n",
       "      <td>871</td>\n",
       "      <td>948</td>\n",
       "      <td>1581</td>\n",
       "      <td>1838</td>\n",
       "      <td>...</td>\n",
       "      <td>-20211</td>\n",
       "      <td>-20799</td>\n",
       "      <td>-21697</td>\n",
       "      <td>-18167</td>\n",
       "      <td>0</td>\n",
       "      <td>0</td>\n",
       "      <td>0</td>\n",
       "      <td>0</td>\n",
       "      <td>0</td>\n",
       "      <td>and</td>\n",
       "    </tr>\n",
       "    <tr>\n",
       "      <td>6</td>\n",
       "      <td>508</td>\n",
       "      <td>-265</td>\n",
       "      <td>-1375</td>\n",
       "      <td>-2541</td>\n",
       "      <td>-3028</td>\n",
       "      <td>-2754</td>\n",
       "      <td>-2325</td>\n",
       "      <td>-2041</td>\n",
       "      <td>-2351</td>\n",
       "      <td>-2699</td>\n",
       "      <td>...</td>\n",
       "      <td>41</td>\n",
       "      <td>-133</td>\n",
       "      <td>-379</td>\n",
       "      <td>-513</td>\n",
       "      <td>0</td>\n",
       "      <td>0</td>\n",
       "      <td>0</td>\n",
       "      <td>0</td>\n",
       "      <td>0</td>\n",
       "      <td>them</td>\n",
       "    </tr>\n",
       "  </tbody>\n",
       "</table>\n",
       "<p>5 rows × 3001 columns</p>\n",
       "</div>"
      ],
      "text/plain": [
       "   sample_0  sample_1  sample_2  sample_3  sample_4  sample_5  sample_6  \\\n",
       "0       129       206       227       208       275       402       474   \n",
       "1     -4786     -3695      -694      2025      3114      2906      1890   \n",
       "3       718       165     -1624     -1544      1007       620      1096   \n",
       "4       320      -109       590       895       389       334       871   \n",
       "6       508      -265     -1375     -2541     -3028     -2754     -2325   \n",
       "\n",
       "   sample_7  sample_8  sample_9  ...  sample_2991  sample_2992  sample_2993  \\\n",
       "0       559       658       880  ...        -6458        -4407        -2736   \n",
       "1      1563      2868      4372  ...         6378        -4740       -14274   \n",
       "3     -1256     -1975        60  ...          345         1353         1125   \n",
       "4       948      1581      1838  ...       -20211       -20799       -21697   \n",
       "6     -2041     -2351     -2699  ...           41         -133         -379   \n",
       "\n",
       "   sample_2994  sample_2995  sample_2996  sample_2997  sample_2998  \\\n",
       "0        -1968            0            0            0            0   \n",
       "1       -14041            0            0            0            0   \n",
       "3        -5120        -5043        -3150        -4747        -5659   \n",
       "4       -18167            0            0            0            0   \n",
       "6         -513            0            0            0            0   \n",
       "\n",
       "   sample_2999  words  \n",
       "0            0  learn  \n",
       "1            0     to  \n",
       "3        -5833  omens  \n",
       "4            0    and  \n",
       "6            0   them  \n",
       "\n",
       "[5 rows x 3001 columns]"
      ]
     },
     "execution_count": 3,
     "metadata": {},
     "output_type": "execute_result"
    }
   ],
   "source": [
    "from datetime import datetime\n",
    "import pandas as pd\n",
    "import numpy as np\n",
    "from tensorflow import keras\n",
    "\n",
    "start=datetime.now()\n",
    "temp = pd.read_csv('Data/cv-valid-train.csv')\n",
    "texts = temp['text']\n",
    "\n",
    "words_list = np.hstack([x.split(' ') for x in texts])\n",
    "words_list_df = pd.Series(words_list)\n",
    "temp = words_list_df.value_counts()\n",
    "\n",
    "common_words = temp[:1000]\n",
    "for ind in range(1000,len(temp)):\n",
    "    num_freq = common_words[-1]\n",
    "    if temp[ind] == num_freq:\n",
    "        common_words = pd.concat([common_words,temp[ind:ind+1]])\n",
    "    else: break\n",
    "print(common_words)\n",
    "\n",
    "temp = None\n",
    "texts = None\n",
    "words_list = None\n",
    "\n",
    "\n",
    "df = pd.read_csv('Data/Samples_1.csv')\n",
    "df['words'] = df['words'].where(df['words'].isin(common_words.index),'[UNRECOGNIZED]')\n",
    "temp = df.loc[df['words']=='[UNRECOGNIZED]']\n",
    "df_1 = df.loc[df['words']!='[UNRECOGNIZED]']\n",
    "df_2 = temp.sample(frac=0.005)\n",
    "df = pd.concat([df_1,df_2])\n",
    "print(len(df))\n",
    "end = datetime.now()\n",
    "print(end-start)\n",
    "df.head()"
   ]
  },
  {
   "cell_type": "code",
   "execution_count": 4,
   "metadata": {},
   "outputs": [
    {
     "name": "stdout",
     "output_type": "stream",
     "text": [
      "(40900, 1009)\n",
      "X preprocessed\n",
      "0:00:32.193483\n"
     ]
    }
   ],
   "source": [
    "from sklearn.preprocessing import LabelBinarizer\n",
    "from sklearn.model_selection import train_test_split\n",
    "from sklearn.preprocessing import StandardScaler\n",
    "from sklearn.utils.class_weight import compute_class_weight\n",
    "\n",
    "start = datetime.now()\n",
    "X = df.drop('words',axis=1)\n",
    "y_raw = df['words']\n",
    "\n",
    "words_list = pd.Series(y_raw).value_counts()\n",
    "\n",
    "lb = LabelBinarizer()\n",
    "lb.fit(words_list.index)\n",
    "y = lb.transform(y_raw)\n",
    "print(y.shape)\n",
    "\n",
    "\n",
    "#X_train,X_val,y_train,y_val = train_test_split(X,y)\n",
    "ss = StandardScaler()\n",
    "X_scale = ss.fit_transform(X)\n",
    "X_final = X_scale.reshape(X.shape[0],3000,1)\n",
    "print('X preprocessed')\n",
    "\n",
    "\n",
    "num_unrec = round((len(words_list_df)-sum(common_words))*.005)\n",
    "temp = pd.Series(num_unrec)\n",
    "temp.index = ['[UNRECOGNIZED]']\n",
    "words_list = pd.concat([common_words,temp])\n",
    "\n",
    "\n",
    "class_weight_dict = {}\n",
    "for ind in range(len(words_list)):\n",
    "    word = words_list.index[ind]\n",
    "    word_ind = lb.transform([word]).argmax()\n",
    "    class_weight_dict[word_ind] = sum(words_list)/(len(words_list)*words_list[ind])\n",
    "weight_dict_sorted = dict(sorted(class_weight_dict.items()))\n",
    "        \n",
    "end = datetime.now()\n",
    "print(end-start)"
   ]
  },
  {
   "cell_type": "markdown",
   "metadata": {},
   "source": [
    "Generally, try to compare 2nd epoch, as that is the most common for most optimizers <br>\n",
    "Comparisons: 1-3, 1&4, 4-6, 6-8, 8-11"
   ]
  },
  {
   "cell_type": "markdown",
   "metadata": {},
   "source": [
    "1. 64,64,2,relu,Adagrad,2\n",
    "2. 64,64,2,LeakyReLU,Adagrad,2\n",
    "3. 64,64,2,tanh,Adagrad,2\n",
    "4. 64,64,2,relu,Nadam,2\n",
    "5. 64,64,2,relu,Nadam,1,50\n",
    "6. 100,100,2,relu,Nadam,3,25\n",
    "7. 100,100,2,relu,Nadam,3,25,dropout\n",
    "8. 100,100,2,relu,Nadam,4,25,moreData\n",
    "9. 100,100,2,relu,Ftrl,2,25\n",
    "10. 100,100,2,relu,RMSprop,2,25\n",
    "11. 100,100,2,relu,SGD,2,25"
   ]
  },
  {
   "cell_type": "code",
   "execution_count": 5,
   "metadata": {
    "scrolled": true
   },
   "outputs": [
    {
     "ename": "ValueError",
     "evalue": "Cannot assign to variable bidirectional_6/forward_gru_6/gru_cell_19/kernel:0 due to variable shape (1, 300) and value shape (1, 450) are incompatible",
     "output_type": "error",
     "traceback": [
      "\u001b[1;31m---------------------------------------------------------------------------\u001b[0m",
      "\u001b[1;31mValueError\u001b[0m                                Traceback (most recent call last)",
      "\u001b[1;32m<ipython-input-5-eabaf49e0f8b>\u001b[0m in \u001b[0;36m<module>\u001b[1;34m\u001b[0m\n\u001b[0;32m     15\u001b[0m \u001b[0msmaller_batch\u001b[0m\u001b[1;33m.\u001b[0m\u001b[0mget_stats\u001b[0m\u001b[1;33m(\u001b[0m\u001b[0mX_final\u001b[0m\u001b[1;33m,\u001b[0m\u001b[0my\u001b[0m\u001b[1;33m)\u001b[0m\u001b[1;33m\u001b[0m\u001b[1;33m\u001b[0m\u001b[0m\n\u001b[0;32m     16\u001b[0m \u001b[0mdropout\u001b[0m \u001b[1;33m=\u001b[0m \u001b[0mmodel_object\u001b[0m\u001b[1;33m(\u001b[0m\u001b[1;34m'100,100,2,relu,Nadam,3,25,dropout'\u001b[0m\u001b[1;33m)\u001b[0m\u001b[1;33m\u001b[0m\u001b[1;33m\u001b[0m\u001b[0m\n\u001b[1;32m---> 17\u001b[1;33m \u001b[0mdropout\u001b[0m\u001b[1;33m.\u001b[0m\u001b[0mget_stats\u001b[0m\u001b[1;33m(\u001b[0m\u001b[0mX_final\u001b[0m\u001b[1;33m,\u001b[0m\u001b[0my\u001b[0m\u001b[1;33m)\u001b[0m\u001b[1;33m\u001b[0m\u001b[1;33m\u001b[0m\u001b[0m\n\u001b[0m\u001b[0;32m     18\u001b[0m \u001b[1;33m\u001b[0m\u001b[0m\n\u001b[0;32m     19\u001b[0m \u001b[0moptim_1\u001b[0m \u001b[1;33m=\u001b[0m \u001b[0mmodel_object\u001b[0m\u001b[1;33m(\u001b[0m\u001b[1;34m'100,100,2,relu,Nadam,4,25,moreData'\u001b[0m\u001b[1;33m)\u001b[0m\u001b[1;33m\u001b[0m\u001b[1;33m\u001b[0m\u001b[0m\n",
      "\u001b[1;32m<ipython-input-2-976f42fd9c22>\u001b[0m in \u001b[0;36mget_stats\u001b[1;34m(self, x, y)\u001b[0m\n\u001b[0;32m     21\u001b[0m     \u001b[1;32mdef\u001b[0m \u001b[0mget_stats\u001b[0m\u001b[1;33m(\u001b[0m\u001b[0mself\u001b[0m\u001b[1;33m,\u001b[0m\u001b[0mx\u001b[0m\u001b[1;33m,\u001b[0m\u001b[0my\u001b[0m\u001b[1;33m)\u001b[0m\u001b[1;33m:\u001b[0m\u001b[1;33m\u001b[0m\u001b[1;33m\u001b[0m\u001b[0m\n\u001b[0;32m     22\u001b[0m         \u001b[0mself\u001b[0m\u001b[1;33m.\u001b[0m\u001b[0mmodel\u001b[0m\u001b[1;33m(\u001b[0m\u001b[0mnp\u001b[0m\u001b[1;33m.\u001b[0m\u001b[0mzeros\u001b[0m\u001b[1;33m(\u001b[0m\u001b[1;33m(\u001b[0m\u001b[1;36m1\u001b[0m\u001b[1;33m,\u001b[0m\u001b[1;36m3000\u001b[0m\u001b[1;33m,\u001b[0m\u001b[1;36m1\u001b[0m\u001b[1;33m)\u001b[0m\u001b[1;33m)\u001b[0m\u001b[1;33m)\u001b[0m\u001b[1;33m\u001b[0m\u001b[1;33m\u001b[0m\u001b[0m\n\u001b[1;32m---> 23\u001b[1;33m         \u001b[0mself\u001b[0m\u001b[1;33m.\u001b[0m\u001b[0mmodel\u001b[0m\u001b[1;33m.\u001b[0m\u001b[0mload_weights\u001b[0m\u001b[1;33m(\u001b[0m\u001b[0mself\u001b[0m\u001b[1;33m.\u001b[0m\u001b[0mfull_name\u001b[0m\u001b[1;33m)\u001b[0m\u001b[1;33m\u001b[0m\u001b[1;33m\u001b[0m\u001b[0m\n\u001b[0m\u001b[0;32m     24\u001b[0m         \u001b[0mself\u001b[0m\u001b[1;33m.\u001b[0m\u001b[0mmodel\u001b[0m\u001b[1;33m.\u001b[0m\u001b[0mcompile\u001b[0m\u001b[1;33m(\u001b[0m\u001b[0mloss\u001b[0m\u001b[1;33m=\u001b[0m\u001b[1;34m'categorical_crossentropy'\u001b[0m\u001b[1;33m,\u001b[0m\u001b[0moptimizer\u001b[0m\u001b[1;33m=\u001b[0m\u001b[0mself\u001b[0m\u001b[1;33m.\u001b[0m\u001b[0mattri\u001b[0m\u001b[1;33m[\u001b[0m\u001b[1;36m4\u001b[0m\u001b[1;33m]\u001b[0m\u001b[1;33m,\u001b[0m\u001b[0mmetrics\u001b[0m\u001b[1;33m=\u001b[0m\u001b[1;33m[\u001b[0m\u001b[1;34m'accuracy'\u001b[0m\u001b[1;33m]\u001b[0m\u001b[1;33m)\u001b[0m\u001b[1;33m\u001b[0m\u001b[1;33m\u001b[0m\u001b[0m\n\u001b[0;32m     25\u001b[0m \u001b[1;33m\u001b[0m\u001b[0m\n",
      "\u001b[1;32m~\\AppData\\Roaming\\Python\\Python36\\site-packages\\tensorflow\\python\\keras\\engine\\training.py\u001b[0m in \u001b[0;36mload_weights\u001b[1;34m(self, filepath, by_name, skip_mismatch, options)\u001b[0m\n\u001b[0;32m   2249\u001b[0m             f, self.layers, skip_mismatch=skip_mismatch)\n\u001b[0;32m   2250\u001b[0m       \u001b[1;32melse\u001b[0m\u001b[1;33m:\u001b[0m\u001b[1;33m\u001b[0m\u001b[1;33m\u001b[0m\u001b[0m\n\u001b[1;32m-> 2251\u001b[1;33m         \u001b[0mhdf5_format\u001b[0m\u001b[1;33m.\u001b[0m\u001b[0mload_weights_from_hdf5_group\u001b[0m\u001b[1;33m(\u001b[0m\u001b[0mf\u001b[0m\u001b[1;33m,\u001b[0m \u001b[0mself\u001b[0m\u001b[1;33m.\u001b[0m\u001b[0mlayers\u001b[0m\u001b[1;33m)\u001b[0m\u001b[1;33m\u001b[0m\u001b[1;33m\u001b[0m\u001b[0m\n\u001b[0m\u001b[0;32m   2252\u001b[0m \u001b[1;33m\u001b[0m\u001b[0m\n\u001b[0;32m   2253\u001b[0m   \u001b[1;32mdef\u001b[0m \u001b[0m_updated_config\u001b[0m\u001b[1;33m(\u001b[0m\u001b[0mself\u001b[0m\u001b[1;33m)\u001b[0m\u001b[1;33m:\u001b[0m\u001b[1;33m\u001b[0m\u001b[1;33m\u001b[0m\u001b[0m\n",
      "\u001b[1;32m~\\AppData\\Roaming\\Python\\Python36\\site-packages\\tensorflow\\python\\keras\\saving\\hdf5_format.py\u001b[0m in \u001b[0;36mload_weights_from_hdf5_group\u001b[1;34m(f, layers)\u001b[0m\n\u001b[0;32m    708\u001b[0m                        str(len(weight_values)) + ' elements.')\n\u001b[0;32m    709\u001b[0m     \u001b[0mweight_value_tuples\u001b[0m \u001b[1;33m+=\u001b[0m \u001b[0mzip\u001b[0m\u001b[1;33m(\u001b[0m\u001b[0msymbolic_weights\u001b[0m\u001b[1;33m,\u001b[0m \u001b[0mweight_values\u001b[0m\u001b[1;33m)\u001b[0m\u001b[1;33m\u001b[0m\u001b[1;33m\u001b[0m\u001b[0m\n\u001b[1;32m--> 710\u001b[1;33m   \u001b[0mK\u001b[0m\u001b[1;33m.\u001b[0m\u001b[0mbatch_set_value\u001b[0m\u001b[1;33m(\u001b[0m\u001b[0mweight_value_tuples\u001b[0m\u001b[1;33m)\u001b[0m\u001b[1;33m\u001b[0m\u001b[1;33m\u001b[0m\u001b[0m\n\u001b[0m\u001b[0;32m    711\u001b[0m \u001b[1;33m\u001b[0m\u001b[0m\n\u001b[0;32m    712\u001b[0m \u001b[1;33m\u001b[0m\u001b[0m\n",
      "\u001b[1;32m~\\AppData\\Roaming\\Python\\Python36\\site-packages\\tensorflow\\python\\util\\dispatch.py\u001b[0m in \u001b[0;36mwrapper\u001b[1;34m(*args, **kwargs)\u001b[0m\n\u001b[0;32m    204\u001b[0m     \u001b[1;34m\"\"\"Call target, and fall back on dispatchers if there is a TypeError.\"\"\"\u001b[0m\u001b[1;33m\u001b[0m\u001b[1;33m\u001b[0m\u001b[0m\n\u001b[0;32m    205\u001b[0m     \u001b[1;32mtry\u001b[0m\u001b[1;33m:\u001b[0m\u001b[1;33m\u001b[0m\u001b[1;33m\u001b[0m\u001b[0m\n\u001b[1;32m--> 206\u001b[1;33m       \u001b[1;32mreturn\u001b[0m \u001b[0mtarget\u001b[0m\u001b[1;33m(\u001b[0m\u001b[1;33m*\u001b[0m\u001b[0margs\u001b[0m\u001b[1;33m,\u001b[0m \u001b[1;33m**\u001b[0m\u001b[0mkwargs\u001b[0m\u001b[1;33m)\u001b[0m\u001b[1;33m\u001b[0m\u001b[1;33m\u001b[0m\u001b[0m\n\u001b[0m\u001b[0;32m    207\u001b[0m     \u001b[1;32mexcept\u001b[0m \u001b[1;33m(\u001b[0m\u001b[0mTypeError\u001b[0m\u001b[1;33m,\u001b[0m \u001b[0mValueError\u001b[0m\u001b[1;33m)\u001b[0m\u001b[1;33m:\u001b[0m\u001b[1;33m\u001b[0m\u001b[1;33m\u001b[0m\u001b[0m\n\u001b[0;32m    208\u001b[0m       \u001b[1;31m# Note: convert_to_eager_tensor currently raises a ValueError, not a\u001b[0m\u001b[1;33m\u001b[0m\u001b[1;33m\u001b[0m\u001b[1;33m\u001b[0m\u001b[0m\n",
      "\u001b[1;32m~\\AppData\\Roaming\\Python\\Python36\\site-packages\\tensorflow\\python\\keras\\backend.py\u001b[0m in \u001b[0;36mbatch_set_value\u001b[1;34m(tuples)\u001b[0m\n\u001b[0;32m   3812\u001b[0m   \u001b[1;32mif\u001b[0m \u001b[0mops\u001b[0m\u001b[1;33m.\u001b[0m\u001b[0mexecuting_eagerly_outside_functions\u001b[0m\u001b[1;33m(\u001b[0m\u001b[1;33m)\u001b[0m\u001b[1;33m:\u001b[0m\u001b[1;33m\u001b[0m\u001b[1;33m\u001b[0m\u001b[0m\n\u001b[0;32m   3813\u001b[0m     \u001b[1;32mfor\u001b[0m \u001b[0mx\u001b[0m\u001b[1;33m,\u001b[0m \u001b[0mvalue\u001b[0m \u001b[1;32min\u001b[0m \u001b[0mtuples\u001b[0m\u001b[1;33m:\u001b[0m\u001b[1;33m\u001b[0m\u001b[1;33m\u001b[0m\u001b[0m\n\u001b[1;32m-> 3814\u001b[1;33m       \u001b[0mx\u001b[0m\u001b[1;33m.\u001b[0m\u001b[0massign\u001b[0m\u001b[1;33m(\u001b[0m\u001b[0mnp\u001b[0m\u001b[1;33m.\u001b[0m\u001b[0masarray\u001b[0m\u001b[1;33m(\u001b[0m\u001b[0mvalue\u001b[0m\u001b[1;33m,\u001b[0m \u001b[0mdtype\u001b[0m\u001b[1;33m=\u001b[0m\u001b[0mdtype\u001b[0m\u001b[1;33m(\u001b[0m\u001b[0mx\u001b[0m\u001b[1;33m)\u001b[0m\u001b[1;33m)\u001b[0m\u001b[1;33m)\u001b[0m\u001b[1;33m\u001b[0m\u001b[1;33m\u001b[0m\u001b[0m\n\u001b[0m\u001b[0;32m   3815\u001b[0m   \u001b[1;32melse\u001b[0m\u001b[1;33m:\u001b[0m\u001b[1;33m\u001b[0m\u001b[1;33m\u001b[0m\u001b[0m\n\u001b[0;32m   3816\u001b[0m     \u001b[1;32mwith\u001b[0m \u001b[0mget_graph\u001b[0m\u001b[1;33m(\u001b[0m\u001b[1;33m)\u001b[0m\u001b[1;33m.\u001b[0m\u001b[0mas_default\u001b[0m\u001b[1;33m(\u001b[0m\u001b[1;33m)\u001b[0m\u001b[1;33m:\u001b[0m\u001b[1;33m\u001b[0m\u001b[1;33m\u001b[0m\u001b[0m\n",
      "\u001b[1;32m~\\AppData\\Roaming\\Python\\Python36\\site-packages\\tensorflow\\python\\ops\\resource_variable_ops.py\u001b[0m in \u001b[0;36massign\u001b[1;34m(self, value, use_locking, name, read_value)\u001b[0m\n\u001b[0;32m    889\u001b[0m             (\"Cannot assign to variable%s due to variable shape %s and value \"\n\u001b[0;32m    890\u001b[0m              \"shape %s are incompatible\") %\n\u001b[1;32m--> 891\u001b[1;33m             (tensor_name, self._shape, value_tensor.shape))\n\u001b[0m\u001b[0;32m    892\u001b[0m       assign_op = gen_resource_variable_ops.assign_variable_op(\n\u001b[0;32m    893\u001b[0m           self.handle, value_tensor, name=name)\n",
      "\u001b[1;31mValueError\u001b[0m: Cannot assign to variable bidirectional_6/forward_gru_6/gru_cell_19/kernel:0 due to variable shape (1, 300) and value shape (1, 450) are incompatible"
     ]
    }
   ],
   "source": [
    "start = datetime.now()\n",
    "\n",
    "file_1 = model_object('64,64,2,relu,Adagrad,2')\n",
    "file_1.get_stats(X_final,y)\n",
    "activ_2 = model_object('64,64,2,LeakyReLU,Adagrad,2')\n",
    "activ_2.get_stats(X_final,y)\n",
    "activ_3 = model_object('64,64,2,tanh,Adagrad,2')\n",
    "activ_3.get_stats(X_final,y)\n",
    "\n",
    "Nadam_1 = model_object('64,64,2,relu,Nadam,2')\n",
    "Nadam_1.get_stats(X_final,y)\n",
    "small_batch = model_object('64,64,2,relu,Nadam,1,50')\n",
    "small_batch.get_stats(X_final,y)\n",
    "smaller_batch = model_object('100,100,2,relu,Nadam,3,25')\n",
    "smaller_batch.get_stats(X_final,y)\n",
    "dropout = model_object('100,100,2,relu,Nadam,3,25,dropout')\n",
    "dropout.get_stats(X_final,y)\n",
    "\n",
    "optim_1 = model_object('100,100,2,relu,Nadam,4,25,moreData')\n",
    "optim_1.get_stats(X_final,y)\n",
    "optim_2 = model_object('100,100,2,relu,Ftrl,2,25')\n",
    "optim_2.get_stats(X_final,y)\n",
    "optim_3 = model_object('100,100,2,relu,RMSprop,2,25')\n",
    "optim_3.get_stats(X_final,y)\n",
    "optim_4 = model_object('100,100,2,relu,SGD,2,25')\n",
    "optim_4.get_stats(X_final,y)\n",
    "\n",
    "end = datetime.now()\n",
    "print(end-start)"
   ]
  },
  {
   "cell_type": "code",
   "execution_count": 12,
   "metadata": {},
   "outputs": [
    {
     "data": {
      "text/plain": [
       "Text(0.5, 1.0, 'Accuracy')"
      ]
     },
     "execution_count": 12,
     "metadata": {},
     "output_type": "execute_result"
    },
    {
     "data": {
      "image/png": "[encoded data removed]",
      "text/plain": [
       "<Figure size 1080x288 with 2 Axes>"
      ]
     },
     "metadata": {
      "needs_background": "light"
     },
     "output_type": "display_data"
    }
   ],
   "source": [
    "activ_set = [file_1,activ_2,activ_3]\n",
    "optim_set_1 = [file_1,Nadam_1]\n",
    "batch_size_set = [Nadam_1,small_batch,smaller_batch]\n",
    "\n",
    "x = [file.attri[3] for file in activ_set]\n",
    "y_l = [file.loss for file in activ_set]\n",
    "y_a = [file.acc for file in activ_set]\n",
    "\n",
    "fig, (ax1, ax2) = plt.subplots(1, 2)\n",
    "fig.set_figwidth(15)\n",
    "fig.suptitle('Activation Comparison')\n",
    "ax1.bar(x, y_l)\n",
    "ax1.set_title('Loss')\n",
    "ax1.set_ylim(bottom=min(y_l)-.01,top=max(y_l)+.01)\n",
    "ax2.bar(x, y_a)\n",
    "ax2.set_title('Accuracy')"
   ]
  },
  {
   "cell_type": "code",
   "execution_count": 13,
   "metadata": {},
   "outputs": [
    {
     "data": {
      "text/plain": [
       "Text(0.5, 1.0, 'Accuracy')"
      ]
     },
     "execution_count": 13,
     "metadata": {},
     "output_type": "execute_result"
    },
    {
     "data": {
      "image/png": "[encoded data removed]",
      "text/plain": [
       "<Figure size 1080x288 with 2 Axes>"
      ]
     },
     "metadata": {
      "needs_background": "light"
     },
     "output_type": "display_data"
    }
   ],
   "source": [
    "x = [file.attri[4] for file in optim_set_1]\n",
    "y_l = [file.loss for file in optim_set_1]\n",
    "y_a = [file.acc for file in optim_set_1]\n",
    "\n",
    "fig, (ax1, ax2) = plt.subplots(1, 2)\n",
    "fig.set_figwidth(15)\n",
    "fig.suptitle('Optimization Comparison')\n",
    "ax1.bar(x, y_l)\n",
    "ax1.set_title('Loss')\n",
    "ax1.set_ylim(bottom=min(y_l)-.01,top=max(y_l)+.01)\n",
    "ax2.bar(x, y_a)\n",
    "ax2.set_title('Accuracy')"
   ]
  },
  {
   "cell_type": "code",
   "execution_count": 15,
   "metadata": {},
   "outputs": [
    {
     "data": {
      "text/plain": [
       "Text(0.5, 1.0, 'Accuracy')"
      ]
     },
     "execution_count": 15,
     "metadata": {},
     "output_type": "execute_result"
    },
    {
     "data": {
      "image/png": "[encoded data removed]",
      "text/plain": [
       "<Figure size 1080x288 with 2 Axes>"
      ]
     },
     "metadata": {
      "needs_background": "light"
     },
     "output_type": "display_data"
    }
   ],
   "source": [
    "x = ['100','50','25']\n",
    "y_l = [file.loss for file in batch_size_set]\n",
    "y_a = [file.acc for file in batch_size_set]\n",
    "\n",
    "fig, (ax1, ax2) = plt.subplots(1, 2)\n",
    "fig.set_figwidth(15)\n",
    "fig.suptitle('Batch Size Comparison')\n",
    "ax1.bar(x, y_l)\n",
    "ax1.set_title('Loss')\n",
    "ax1.set_ylim(bottom=min(y_l)-.01,top=max(y_l)+.01)\n",
    "ax2.bar(x, y_a)\n",
    "ax2.set_title('Accuracy')"
   ]
  },
  {
   "cell_type": "code",
   "execution_count": 4,
   "metadata": {},
   "outputs": [
    {
     "name": "stdout",
     "output_type": "stream",
     "text": [
      "Evaluating epoch 4\n",
      "1279/1279 [==============================] - 277s 215ms/step - loss: 6.9171 - accuracy: 0.0011\n"
     ]
    }
   ],
   "source": [
    "from IPython.display import clear_output\n",
    "loss_relu = []\n",
    "acc_relu = []\n",
    "\n",
    "base_name = 'saved_models/64,64,2,relu,Adagrad,'\n",
    "model = create_model(64,64,2,'relu','Adagrad')\n",
    "\n",
    "for x in range(2,11):\n",
    "    file_name = base_name+str(x)\n",
    "    model(np.zeros((1,3000,1)))\n",
    "    model.load_weights(file_name)\n",
    "    model.compile(loss='categorical_crossentropy',optimizer='Adagrad',metrics=['accuracy'])\n",
    "    \n",
    "    print('Evaluating epoch',x)\n",
    "    results_train = model.evaluate(X_final,y)\n",
    "    loss_relu.append(results_train[0])\n",
    "    acc_relu.append(results_train[1])\n",
    "    clear_output(wait=True)\n",
    "    \n",
    "    \n",
    "loss_tanh = []\n",
    "acc_tanh = []\n",
    "\n",
    "base_name = 'saved_models/64,64,2,tanh,Adagrad,'\n",
    "model = create_model(64,64,2,'tanh','Adagrad')\n",
    "\n",
    "for x in range(1,5):\n",
    "    file_name = base_name+str(x)\n",
    "    model(np.zeros((1,3000,1)))\n",
    "    model.load_weights(file_name)\n",
    "    model.compile(loss='categorical_crossentropy',optimizer='Adagrad',metrics=['accuracy'])\n",
    "    \n",
    "    print('Evaluating epoch',x)\n",
    "    results_train = model.evaluate(X_final,y)\n",
    "    loss_tanh.append(results_train[0])\n",
    "    acc_tanh.append(results_train[1])\n",
    "    clear_output(wait=True)"
   ]
  },
  {
   "cell_type": "code",
   "execution_count": 5,
   "metadata": {},
   "outputs": [
    {
     "data": {
      "image/png": "[encoded data removed]",
      "text/plain": [
       "<Figure size 432x288 with 1 Axes>"
      ]
     },
     "metadata": {
      "needs_background": "light"
     },
     "output_type": "display_data"
    },
    {
     "data": {
      "image/png": "[encoded data removed]",
      "text/plain": [
       "<Figure size 432x288 with 1 Axes>"
      ]
     },
     "metadata": {
      "needs_background": "light"
     },
     "output_type": "display_data"
    }
   ],
   "source": [
    "plt.figure()\n",
    "plt.plot(range(2,11),loss_relu)\n",
    "plt.plot(range(1,5),loss_tanh)\n",
    "plt.legend(['relu', 'tanh'])\n",
    "plt.title('Loss')\n",
    "plt.xlabel('Epochs')\n",
    "plt.ylabel('Loss')\n",
    "plt.show()\n",
    "\n",
    "plt.figure()\n",
    "plt.plot(range(2,11),acc_relu)\n",
    "plt.plot(range(1,5),acc_tanh)\n",
    "plt.legend(['relu', 'tanh'])\n",
    "plt.title('Accuracy')\n",
    "plt.xlabel('Epochs')\n",
    "plt.ylabel('Accuracy')\n",
    "plt.show()"
   ]
  },
  {
   "cell_type": "code",
   "execution_count": null,
   "metadata": {},
   "outputs": [],
   "source": []
  }
 ],
 "metadata": {
  "kernelspec": {
   "display_name": "Python [conda env:learn-env] *",
   "language": "python",
   "name": "conda-env-learn-env-py"
  },
  "language_info": {
   "codemirror_mode": {
    "name": "ipython",
    "version": 3
   },
   "file_extension": ".py",
   "mimetype": "text/x-python",
   "name": "python",
   "nbconvert_exporter": "python",
   "pygments_lexer": "ipython3",
   "version": "3.6.9"
  }
 },
 "nbformat": 4,
 "nbformat_minor": 2
}
