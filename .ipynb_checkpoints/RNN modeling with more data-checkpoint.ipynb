{
 "cells": [
  {
   "cell_type": "markdown",
   "metadata": {},
   "source": [
    "# Iteratively Train Model\n",
    "* functions for importing, processing data, and fitting model\n",
    "* imports one \"chunk\" of data at a time\n",
    "* updates the model with current \"chunk\""
   ]
  },
  {
   "cell_type": "code",
   "execution_count": 1,
   "metadata": {},
   "outputs": [
    {
     "name": "stdout",
     "output_type": "stream",
     "text": [
      "the         141274\n",
      "to           55997\n",
      "and          41557\n",
      "a            40516\n",
      "of           36293\n",
      "             ...  \n",
      "medaling       230\n",
      "eastward       230\n",
      "olympics       230\n",
      "junior         230\n",
      "carried        230\n",
      "Length: 1009, dtype: int64\n"
     ]
    }
   ],
   "source": [
    "from datetime import datetime\n",
    "import pandas as pd\n",
    "import numpy as np\n",
    "from tensorflow import keras\n",
    "from sklearn.preprocessing import LabelBinarizer\n",
    "from sklearn.model_selection import train_test_split\n",
    "from sklearn.preprocessing import StandardScaler\n",
    "from sklearn.utils.class_weight import compute_class_weight\n",
    "\n",
    "# Visualization function\n",
    "\n",
    "import matplotlib.pyplot as plt\n",
    "%matplotlib inline\n",
    "\n",
    "def visualize_training_results(results):\n",
    "    history = results.history\n",
    "    plt.figure()\n",
    "    plt.plot(history['val_loss'])\n",
    "    plt.plot(history['loss'])\n",
    "    plt.legend(['val_loss', 'loss'])\n",
    "    plt.title('Loss')\n",
    "    plt.xlabel('Epochs')\n",
    "    plt.ylabel('Loss')\n",
    "    plt.show()\n",
    "    \n",
    "    plt.figure()\n",
    "    plt.plot(history['val_accuracy'])\n",
    "    plt.plot(history['accuracy'])\n",
    "    plt.legend(['val_acc', 'accuracy'])\n",
    "    plt.title('Accuracy')\n",
    "    plt.xlabel('Epochs')\n",
    "    plt.ylabel('Accuracy')\n",
    "    plt.show() \n",
    "\n",
    "    \n",
    "# Find most common words\n",
    "\n",
    "temp = pd.read_csv('Data/cv-valid-train.csv')\n",
    "texts = temp['text']\n",
    "\n",
    "words_list = np.hstack([x.split(' ') for x in texts])\n",
    "words_list_df = pd.Series(words_list)\n",
    "temp = words_list_df.value_counts()\n",
    "\n",
    "common_words = temp[:1000]\n",
    "for ind in range(1000,len(temp)):\n",
    "    num_freq = common_words[-1]\n",
    "    if temp[ind] == num_freq:\n",
    "        common_words = pd.concat([common_words,temp[ind:ind+1]])\n",
    "    else: break\n",
    "print(common_words)\n",
    "\n",
    "\n",
    "\n",
    "\n",
    "\n",
    "temp = None\n",
    "texts = None\n",
    "words_list = None\n",
    "\n",
    "num_unrec = round((len(words_list_df)-sum(common_words))*.005)\n",
    "temp = pd.Series(num_unrec)\n",
    "temp.index = ['[UNRECOGNIZED]']\n",
    "words_list = pd.concat([common_words,temp])\n",
    "\n",
    "lb = LabelBinarizer()\n",
    "lb.fit(words_list.index)\n",
    "\n",
    "class_weight_dict = {}\n",
    "for ind in range(len(words_list)):\n",
    "    word = words_list.index[ind]\n",
    "    word_ind = lb.transform([word]).argmax()\n",
    "    class_weight_dict[word_ind] = sum(words_list)/(len(words_list)*words_list[ind])\n",
    "weight_dict_sorted = dict(sorted(class_weight_dict.items()))"
   ]
  },
  {
   "cell_type": "code",
   "execution_count": 22,
   "metadata": {},
   "outputs": [
    {
     "data": {
      "text/plain": [
       "0"
      ]
     },
     "execution_count": 22,
     "metadata": {},
     "output_type": "execute_result"
    }
   ],
   "source": [
    "count = 0\n",
    "weights = {}\n",
    "uni_y_t = np.unique(np.argmax(y_t,axis=1))\n",
    "for uni in uni_y_t:\n",
    "    weights[count]=weight_dict_sorted[uni]\n",
    "    count += 1\n",
    "all_y = np.concatenate((y_t,y_v))\n",
    "uni_y = np.unique(np.argmax(all_y,axis=1))\n",
    "diff = len(all_y)-len(uni_y)\n",
    "for extra in range(diff):\n",
    "    weights[count]=0\n",
    "    count+=1\n",
    "weights[1008]"
   ]
  },
  {
   "cell_type": "code",
   "execution_count": 2,
   "metadata": {},
   "outputs": [],
   "source": [
    "# import and preprocess data\n",
    "\n",
    "def import_data(sample_to_fit):\n",
    "    sample_to_fit = 1\n",
    "    file_name = 'Data/Samples_'+str(sample_to_fit)+'.csv'\n",
    "\n",
    "    df = pd.read_csv(file_name)\n",
    "    df['words'] = df['words'].where(df['words'].isin(common_words.index),'[UNRECOGNIZED]')\n",
    "    temp = df.loc[df['words']=='[UNRECOGNIZED]']\n",
    "    df_1 = df.loc[df['words']!='[UNRECOGNIZED]']\n",
    "    df_2 = temp.sample(frac=0.005)\n",
    "    df = pd.concat([df_1,df_2])\n",
    "    return df"
   ]
  },
  {
   "cell_type": "code",
   "execution_count": 3,
   "metadata": {},
   "outputs": [],
   "source": [
    "# Process dataframe for model fitting\n",
    "\n",
    "def process_data(df,lb):\n",
    "    X = df.drop('words',axis=1)\n",
    "    y_raw = df['words']\n",
    "\n",
    "    y = lb.transform(y_raw)\n",
    "\n",
    "\n",
    "    X_train,X_val,y_train,y_val = train_test_split(X,y)\n",
    "    ss = StandardScaler()\n",
    "    X_train_scale = ss.fit_transform(X_train)\n",
    "    X_val_scale = ss.transform(X_val)\n",
    "    X_train_final = X_train_scale.reshape(X_train.shape[0],3000,1)\n",
    "    X_val_final = X_val_scale.reshape(X_val.shape[0],3000,1)\n",
    "    \n",
    "    return X_train_final,y_train,X_val_final,y_val"
   ]
  },
  {
   "cell_type": "code",
   "execution_count": 24,
   "metadata": {},
   "outputs": [],
   "source": [
    "# function to train model with new data\n",
    "\n",
    "def model_fit(model,X_train_final,y_train,X_val_final,y_val,verb):\n",
    "    start = datetime.now()\n",
    "    \n",
    "    count = 0\n",
    "    weights = {}\n",
    "    uni_y_t = np.unique(np.argmax(y_train,axis=1))\n",
    "    for uni in uni_y_t:\n",
    "        weights[count]=weight_dict_sorted[uni]\n",
    "        count += 1\n",
    "    all_y = np.concatenate((y_train,y_val))\n",
    "    uni_y = np.unique(np.argmax(all_y,axis=1))\n",
    "    diff = len(all_y)-len(uni_y)\n",
    "    for extra in range(diff):\n",
    "        weights[count]=0\n",
    "        count+=1\n",
    "    \n",
    "    results=model.fit(X_train_final,y_train,epochs=6,batch_size=100,validation_data=(X_val_final,y_val),\n",
    "                    class_weight = weights,verbose=verb)\n",
    "    end=datetime.now()\n",
    "\n",
    "    print('\\nTime training: ',end-start)\n",
    "    results_train = model.evaluate(X_train_final,y_train)\n",
    "    print('----------')\n",
    "    print(f'Training Loss: {results_train[0]:.3} \\nTraining Accuracy: {results_train[1]:.3}')\n",
    "    results_val = model.evaluate(X_val_final,y_val)\n",
    "    print('----------')\n",
    "    print(f'Validation Loss: {results_val[0]:.3} \\nValidation Accuracy: {results_val[1]:.3}')\n",
    "\n",
    "    visualize_training_results(results)\n",
    "    return model"
   ]
  },
  {
   "cell_type": "code",
   "execution_count": 25,
   "metadata": {},
   "outputs": [],
   "source": [
    "#initialize model\n",
    "\n",
    "gru = keras.models.Sequential()\n",
    "gru.add(keras.layers.Bidirectional(keras.layers.GRU(16, input_shape=(3000,1,))))\n",
    "gru.add(keras.layers.Dense(1010,activation='softmax'))\n",
    "gru.compile(loss='categorical_crossentropy',optimizer='Adagrad',metrics=['accuracy'])"
   ]
  },
  {
   "cell_type": "code",
   "execution_count": 97,
   "metadata": {
    "scrolled": true
   },
   "outputs": [
    {
     "data": {
      "text/plain": [
       "array(['sound'], dtype='<U14')"
      ]
     },
     "execution_count": 97,
     "metadata": {},
     "output_type": "execute_result"
    }
   ],
   "source": [
    "smth = np.zeros([1,1010])\n",
    "smth[0,776]=1\n",
    "smth\n",
    "lb.inverse_transform(smth)"
   ]
  },
  {
   "cell_type": "code",
   "execution_count": null,
   "metadata": {},
   "outputs": [
    {
     "name": "stdout",
     "output_type": "stream",
     "text": [
      "Starting Time for set 1: 2020-10-30 22:41:57.904699\n",
      "Data Imported, Time Elapsed: 0:02:02.406523\n"
     ]
    }
   ],
   "source": [
    "# \n",
    "\n",
    "for x in range(1,4):\n",
    "    dt_1 = datetime.now()\n",
    "    print(f'Starting Time for set {x}: {dt_1}')\n",
    "    df = import_data(x)\n",
    "    dt_2 = datetime.now()\n",
    "    print('Data Imported, Time Elapsed:',dt_2-dt_1)\n",
    "    X_t,y_t,X_v,y_v = process_data(df,lb)\n",
    "    dt_3 = datetime.now()\n",
    "    print('Data Processed, Time Elapsed:',dt_3-dt_2)\n",
    "    gru = model_fit(gru,X_t,y_t,X_v,y_v,False)\n",
    "    gru.save('model_in_progress')"
   ]
  },
  {
   "cell_type": "code",
   "execution_count": null,
   "metadata": {},
   "outputs": [],
   "source": []
  }
 ],
 "metadata": {
  "kernelspec": {
   "display_name": "Python [conda env:learn-env] *",
   "language": "python",
   "name": "conda-env-learn-env-py"
  },
  "language_info": {
   "codemirror_mode": {
    "name": "ipython",
    "version": 3
   },
   "file_extension": ".py",
   "mimetype": "text/x-python",
   "name": "python",
   "nbconvert_exporter": "python",
   "pygments_lexer": "ipython3",
   "version": "3.6.9"
  }
 },
 "nbformat": 4,
 "nbformat_minor": 2
}
